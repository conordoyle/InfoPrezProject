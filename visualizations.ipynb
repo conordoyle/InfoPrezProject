{
 "cells": [
  {
   "cell_type": "code",
   "execution_count": null,
   "id": "93c36587",
   "metadata": {
    "pycharm": {
     "name": "#%%\n"
    },
    "is_executing": true
   },
   "outputs": [],
   "source": [
    "import pandas as pd\n",
    "import random\n",
    "import matplotlib.pyplot as plt\n",
    "import seaborn as sns"
   ]
  },
  {
   "cell_type": "code",
   "execution_count": null,
   "id": "e3dbd4ea",
   "metadata": {
    "pycharm": {
     "name": "#%%\n"
    },
    "is_executing": true
   },
   "outputs": [],
   "source": [
    "bikes_df = pd.read_csv('datasets/current_bluebikes_stations.csv', header=1)\n",
    "bikes_df.head()"
   ]
  },
  {
   "cell_type": "code",
   "execution_count": null,
   "id": "efcf404e",
   "metadata": {
    "pycharm": {
     "name": "#%%\n"
    },
    "is_executing": true
   },
   "outputs": [],
   "source": [
    "bikes_df.District.value_counts()"
   ]
  },
  {
   "cell_type": "code",
   "execution_count": null,
   "id": "49e5a66c",
   "metadata": {
    "pycharm": {
     "name": "#%%\n"
    },
    "is_executing": true
   },
   "outputs": [],
   "source": [
    "bikes_df.iloc[35,:]"
   ]
  },
  {
   "cell_type": "code",
   "execution_count": null,
   "id": "994f6605",
   "metadata": {
    "pycharm": {
     "name": "#%%\n"
    },
    "is_executing": true
   },
   "outputs": [],
   "source": [
    "bikes_df.dtypes"
   ]
  },
  {
   "cell_type": "code",
   "execution_count": null,
   "id": "344dfde1",
   "metadata": {
    "pycharm": {
     "name": "#%%\n"
    },
    "is_executing": true
   },
   "outputs": [],
   "source": [
    "bikes_df.isna().sum()"
   ]
  },
  {
   "cell_type": "code",
   "execution_count": null,
   "id": "c6b67e0b",
   "metadata": {
    "scrolled": true,
    "pycharm": {
     "name": "#%%\n"
    },
    "is_executing": true
   },
   "outputs": [],
   "source": [
    "bikes_df['Public'].value_counts()"
   ]
  },
  {
   "cell_type": "code",
   "execution_count": null,
   "id": "322eb883",
   "metadata": {
    "pycharm": {
     "name": "#%%\n"
    },
    "is_executing": true
   },
   "outputs": [],
   "source": [
    "# convert variables to string dtype\n",
    "feat = ['Name', 'District']\n",
    "\n",
    "for feature in feat:\n",
    "    # case insensitive search - set to lowercase\n",
    "    #bikes_df[feature] = bikes_df[feature].apply(str.lower).str.strip()\n",
    "    # apply string data type\n",
    "    bikes_df[feature] = bikes_df[feature].astype('string')"
   ]
  },
  {
   "cell_type": "code",
   "execution_count": null,
   "id": "22ddc2d4",
   "metadata": {
    "scrolled": true,
    "pycharm": {
     "name": "#%%\n"
    },
    "is_executing": true
   },
   "outputs": [],
   "source": [
    "bikes_df.dtypes"
   ]
  },
  {
   "cell_type": "code",
   "execution_count": null,
   "id": "316b5873",
   "metadata": {
    "pycharm": {
     "name": "#%%\n"
    },
    "is_executing": true
   },
   "outputs": [],
   "source": [
    "sns.barplot(x='District',y='Total docks', data=bikes_df, errorbar=('ci', 0), palette = \"Blues\")\n",
    "plt.xlabel('District name')\n",
    "plt.ylabel('Number of bike station docks')\n",
    "plt.title('Total number of docks in each district for blue bike stations')\n",
    "\n",
    "plt.xticks(rotation=\"vertical\")\n",
    "\n",
    "\n",
    "plt.show()"
   ]
  },
  {
   "cell_type": "code",
   "execution_count": null,
   "id": "66a91c4e",
   "metadata": {
    "scrolled": false,
    "pycharm": {
     "name": "#%%\n"
    },
    "is_executing": true
   },
   "outputs": [],
   "source": [
    "trip_df = pd.read_csv('datasets/202301-bluebikes-tripdata.csv')\n",
    "trip_df.head()"
   ]
  },
  {
   "cell_type": "code",
   "execution_count": null,
   "id": "06625de3",
   "metadata": {
    "pycharm": {
     "name": "#%%\n"
    },
    "is_executing": true
   },
   "outputs": [],
   "source": [
    "trip_df.isna().sum()"
   ]
  },
  {
   "cell_type": "code",
   "execution_count": null,
   "id": "f879ddcb",
   "metadata": {
    "pycharm": {
     "name": "#%%\n"
    },
    "is_executing": true
   },
   "outputs": [],
   "source": [
    "trip_df.dtypes"
   ]
  },
  {
   "cell_type": "code",
   "execution_count": null,
   "id": "79db07e0",
   "metadata": {
    "pycharm": {
     "name": "#%%\n"
    },
    "is_executing": true
   },
   "outputs": [],
   "source": [
    "# convert variables to string dtype\n",
    "feat = ['start station name', 'end station name', 'usertype']\n",
    "\n",
    "for feature in feat:\n",
    "    # case insensitive search - set to lowercase\n",
    "    #bikes_df[feature] = bikes_df[feature].apply(str.lower).str.strip()\n",
    "    # apply string data type\n",
    "    trip_df[feature] = trip_df[feature].astype('string')"
   ]
  },
  {
   "cell_type": "code",
   "execution_count": null,
   "id": "9a926c03",
   "metadata": {
    "pycharm": {
     "name": "#%%\n"
    },
    "is_executing": true
   },
   "outputs": [],
   "source": [
    "# set data types for numerical timestamp values\n",
    "\n",
    "number_feat = ['starttime', 'stoptime']\n",
    "\n",
    "for feature in number_feat: \n",
    "    # convert data type to datetime\n",
    "    trip_df[feature] = trip_df[feature].astype('datetime64[ns]')"
   ]
  },
  {
   "cell_type": "code",
   "execution_count": null,
   "id": "e11fe23c",
   "metadata": {
    "pycharm": {
     "name": "#%%\n"
    },
    "is_executing": true
   },
   "outputs": [],
   "source": [
    "trip_df.dtypes"
   ]
  },
  {
   "cell_type": "code",
   "execution_count": null,
   "id": "808eddac",
   "metadata": {
    "pycharm": {
     "name": "#%%\n"
    },
    "is_executing": true
   },
   "outputs": [],
   "source": [
    "import geopandas \n",
    "import geodatasets\n",
    "import pandas as pd\n",
    "import numpy as np"
   ]
  },
  {
   "cell_type": "code",
   "execution_count": null,
   "id": "da32cd52",
   "metadata": {
    "pycharm": {
     "name": "#%%\n"
    },
    "is_executing": true
   },
   "outputs": [],
   "source": [
    "county = geopandas.read_file(\"datasets/ne_10m_admin_2_counties/ne_10m_admin_2_counties.shp\")\n",
    "county.head()"
   ]
  },
  {
   "cell_type": "code",
   "execution_count": null,
   "id": "4398ce26",
   "metadata": {
    "pycharm": {
     "name": "#%%\n"
    },
    "is_executing": true
   },
   "outputs": [],
   "source": [
    "county['fips'] = county['FIPS'].apply(lambda x: int(x[2:]))"
   ]
  },
  {
   "cell_type": "code",
   "execution_count": null,
   "id": "3170299f",
   "metadata": {
    "scrolled": true,
    "pycharm": {
     "name": "#%%\n"
    },
    "is_executing": true
   },
   "outputs": [],
   "source": [
    "ma_df = county[county['ISO_3166_2'] == \"US-25\"]\n",
    "ma_df.plot()"
   ]
  },
  {
   "cell_type": "code",
   "execution_count": null,
   "id": "7cccb207",
   "metadata": {
    "pycharm": {
     "name": "#%%\n"
    },
    "is_executing": true
   },
   "outputs": [],
   "source": [
    "boston_counties = ['Middlesex', 'Norfolk', 'Suffolk', 'Essex']\n",
    "\n",
    "# Filtering ma_df based on boston_counties\n",
    "new_df = ma_df[ma_df['NAME'].isin(boston_counties)]\n",
    "    \n",
    "new_df"
   ]
  },
  {
   "cell_type": "code",
   "execution_count": null,
   "id": "b0f55c1f",
   "metadata": {
    "pycharm": {
     "name": "#%%\n"
    },
    "is_executing": true
   },
   "outputs": [],
   "source": [
    "new_df.plot(color = 'white', edgecolor = \"black\")"
   ]
  },
  {
   "cell_type": "code",
   "execution_count": null,
   "id": "2ab67d08",
   "metadata": {
    "pycharm": {
     "name": "#%%\n"
    },
    "is_executing": true
   },
   "outputs": [],
   "source": [
    "import geopandas \n",
    "import geodatasets"
   ]
  },
  {
   "cell_type": "code",
   "execution_count": null,
   "id": "518a656b",
   "metadata": {
    "pycharm": {
     "name": "#%%\n"
    },
    "is_executing": true
   },
   "outputs": [],
   "source": [
    "from shapely.geometry import Point\n",
    "#Create the geospatial data from columns\n",
    "\n",
    "trip_df1 = trip_df.copy()\n",
    "trip_df1['geometry'] = [Point(xy) for xy in zip(trip_df1['start station longitude'],\n",
    "                                                 trip_df1['start station latitude'])]\n",
    "trip_df1.head()"
   ]
  },
  {
   "cell_type": "code",
   "execution_count": null,
   "id": "2ce8474e",
   "metadata": {
    "pycharm": {
     "name": "#%%\n"
    },
    "is_executing": true
   },
   "outputs": [],
   "source": [
    "from geopandas import GeoDataFrame\n",
    "# Create the GeoDataFrame\n",
    "gdf = GeoDataFrame(trip_df1, geometry='geometry')\n",
    "\n",
    "# Plotting\n",
    "base = new_df.plot(color = 'white', edgecolor = 'black')\n",
    "\n",
    "# Plot trip points\n",
    "gdf.plot(ax=base, marker='^', color='green', markersize=2)\n",
    "\n",
    "plt.title('Trip Start Points')\n",
    "plt.xlabel('Longitude')\n",
    "plt.ylabel('Latitude')\n",
    "plt.show()"
   ]
  },
  {
   "cell_type": "code",
   "execution_count": null,
   "id": "57e82b68",
   "metadata": {
    "pycharm": {
     "name": "#%%\n"
    },
    "is_executing": true
   },
   "outputs": [],
   "source": [
    "point_gdf = gdf.explode(index_parts = True)\n",
    "point_gdf.head()"
   ]
  },
  {
   "cell_type": "code",
   "execution_count": null,
   "id": "c7b073d8",
   "metadata": {
    "pycharm": {
     "name": "#%%\n"
    },
    "is_executing": true
   },
   "outputs": [],
   "source": [
    "point_gdf1 = point_gdf.drop(['starttime', 'stoptime'], axis=1)"
   ]
  },
  {
   "cell_type": "code",
   "execution_count": null,
   "id": "092afdb0",
   "metadata": {
    "pycharm": {
     "name": "#%%\n"
    },
    "is_executing": true
   },
   "outputs": [],
   "source": [
    "point_gdf1"
   ]
  },
  {
   "cell_type": "code",
   "execution_count": null,
   "id": "ab4db25d",
   "metadata": {
    "pycharm": {
     "name": "#%%\n"
    },
    "is_executing": true
   },
   "outputs": [],
   "source": [
    "import folium"
   ]
  },
  {
   "cell_type": "code",
   "execution_count": null,
   "id": "2f2aa7a8",
   "metadata": {
    "scrolled": true,
    "pycharm": {
     "name": "#%%\n"
    },
    "is_executing": true
   },
   "outputs": [],
   "source": [
    "m = new_df.explore(\n",
    "    column = \"NAME\", \n",
    "    tooltip = 'NAME', \n",
    "    popup = ['NAME'],\n",
    "    legend = True\n",
    ")\n",
    "m"
   ]
  },
  {
   "cell_type": "code",
   "execution_count": null,
   "id": "d8d82890",
   "metadata": {
    "pycharm": {
     "name": "#%%\n"
    },
    "is_executing": true
   },
   "outputs": [],
   "source": [
    "point_gdf.plot()"
   ]
  },
  {
   "cell_type": "code",
   "execution_count": null,
   "id": "84b0b113",
   "metadata": {
    "pycharm": {
     "name": "#%%\n"
    },
    "is_executing": true
   },
   "outputs": [],
   "source": [
    "m = new_df.explore(\n",
    "    column = \"NAME\", \n",
    "    tooltip = 'NAME', \n",
    "    popup = ['NAME'],\n",
    "    legend = True\n",
    ")\n",
    "\n",
    "point_gdf1.explore(\n",
    "    m = m,\n",
    "    color = \"blue\", \n",
    "    marker_kwds = dict(radius = 3, fill = True), \n",
    "    tooltip = 'start station name', \n",
    "    name = \"stations\"\n",
    ")\n",
    "\n",
    "folium.TileLayer(\"CartoDB positron\", show = False).add_to(m)\n",
    "folium.LayerControl().add_to(m)"
   ]
  },
  {
   "cell_type": "code",
   "execution_count": null,
   "id": "a0cf5cc1",
   "metadata": {
    "pycharm": {
     "name": "#%%\n"
    },
    "is_executing": true
   },
   "outputs": [],
   "source": [
    "m.save('figure.html')"
   ]
  },
  {
   "cell_type": "code",
   "execution_count": null,
   "id": "ebf5c7d7",
   "metadata": {
    "pycharm": {
     "name": "#%%\n"
    },
    "is_executing": true
   },
   "outputs": [],
   "source": [
    "trip_df1"
   ]
  },
  {
   "cell_type": "code",
   "execution_count": null,
   "id": "e4128592",
   "metadata": {
    "pycharm": {
     "name": "#%%\n"
    },
    "is_executing": true
   },
   "outputs": [],
   "source": [
    "trip_df1"
   ]
  },
  {
   "cell_type": "code",
   "execution_count": null,
   "id": "cea71e52",
   "metadata": {
    "pycharm": {
     "name": "#%%\n"
    },
    "is_executing": true
   },
   "outputs": [],
   "source": [
    "import altair as alt\n",
    "chart = alt.Chart(trip_df1)"
   ]
  },
  {
   "cell_type": "code",
   "execution_count": null,
   "id": "c3ec6243",
   "metadata": {
    "pycharm": {
     "name": "#%%\n"
    },
    "is_executing": true
   },
   "outputs": [],
   "source": [
    "# create scatterplot with single selection\n",
    "\n",
    "selection = alt.selection_single()\n",
    "\n",
    "alt.Chart(trip_df1).mark_circle().encode(\n",
    "    x='start station longitude:Q',\n",
    "    y='start station latitude:Q',\n",
    "    tooltip=['start station name:N'],\n",
    ").add_params(\n",
    "    selection\n",
    ").properties(width=700, height=300, \n",
    "             title='Average personal income vs personal health score for all countries based on region')"
   ]
  },
  {
   "cell_type": "code",
   "execution_count": null,
   "id": "f63eb4b6",
   "metadata": {
    "pycharm": {
     "name": "#%%\n"
    },
    "is_executing": true
   },
   "outputs": [],
   "source": []
  }
 ],
 "metadata": {
  "kernelspec": {
   "display_name": "Python 3 (ipykernel)",
   "language": "python",
   "name": "python3"
  },
  "language_info": {
   "codemirror_mode": {
    "name": "ipython",
    "version": 3
   },
   "file_extension": ".py",
   "mimetype": "text/x-python",
   "name": "python",
   "nbconvert_exporter": "python",
   "pygments_lexer": "ipython3",
   "version": "3.11.5"
  }
 },
 "nbformat": 4,
 "nbformat_minor": 5
}
