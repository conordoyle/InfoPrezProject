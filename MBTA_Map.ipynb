{
 "cells": [
  {
   "cell_type": "code",
   "execution_count": null,
   "outputs": [],
   "source": [],
   "metadata": {
    "collapsed": false,
    "pycharm": {
     "name": "#%%\n"
    }
   }
  },
  {
   "cell_type": "code",
   "execution_count": null,
   "outputs": [],
   "source": [],
   "metadata": {
    "collapsed": false,
    "pycharm": {
     "name": "#%%\n"
    }
   }
  },
  {
   "cell_type": "code",
   "execution_count": null,
   "outputs": [],
   "source": [],
   "metadata": {
    "collapsed": false,
    "pycharm": {
     "name": "#%%\n"
    }
   }
  },
  {
   "cell_type": "code",
   "execution_count": null,
   "outputs": [],
   "source": [
    "\n"
   ],
   "metadata": {
    "collapsed": false,
    "pycharm": {
     "name": "#%%\n"
    }
   }
  },
  {
   "cell_type": "code",
   "execution_count": null,
   "outputs": [],
   "source": [],
   "metadata": {
    "collapsed": false,
    "pycharm": {
     "name": "#%%\n"
    }
   }
  },
  {
   "cell_type": "code",
   "execution_count": null,
   "outputs": [],
   "source": [],
   "metadata": {
    "collapsed": false,
    "pycharm": {
     "name": "#%%\n"
    }
   }
  },
  {
   "cell_type": "code",
   "execution_count": null,
   "outputs": [],
   "source": [],
   "metadata": {
    "collapsed": false,
    "pycharm": {
     "name": "#%%\n"
    }
   }
  },
  {
   "cell_type": "code",
   "execution_count": null,
   "outputs": [],
   "source": [
    "import geopandas\n",
    "mbta_line = geopandas.read_file(\"datasets/mbta_rapid_transit/MBTA_ARC.shp\")\n",
    "mbta_node = geopandas.read_file(\"datasets/mbta_rapid_transit/MBTA_NODE.shp\")\n",
    "mbta_line.plot(column = 'ROUTE')\n",
    "\n",
    "mbta_node.plot()\n"
   ],
   "metadata": {
    "collapsed": false,
    "pycharm": {
     "name": "#%%\n"
    }
   }
  },
  {
   "cell_type": "code",
   "execution_count": null,
   "metadata": {
    "pycharm": {
     "name": "#%%\n"
    }
   },
   "outputs": [],
   "source": [
    "color_legend = \n",
    "mbta_node.plot(column = 'LINE')"
   ]
  },
  {
   "cell_type": "code",
   "execution_count": null,
   "metadata": {
    "pycharm": {
     "name": "#%%\n"
    }
   },
   "outputs": [],
   "source": [
    "# Plot the lines with color based on LINE attribute\n",
    "\n",
    "ax = mbta_line.plot(column='LINE', \n",
    "                    legend=True, \n",
    "                    figsize=(10, 8))\n",
    "\n"
   ]
  },
  {
   "cell_type": "code",
   "execution_count": null,
   "metadata": {
    "pycharm": {
     "name": "#%%\n"
    }
   },
   "outputs": [],
   "source": [
    "mbta_node[mbta_node['LINE'] == 'SILVER']\n"
   ]
  },
  {
   "cell_type": "code",
   "execution_count": null,
   "metadata": {
    "pycharm": {
     "name": "#%%\n"
    }
   },
   "outputs": [],
   "source": [
    "mbta_node['LINE'].unique()"
   ]
  },
  {
   "cell_type": "code",
   "execution_count": null,
   "metadata": {
    "pycharm": {
     "name": "#%%\n"
    }
   },
   "outputs": [],
   "source": [
    "\n",
    "# Define a custom colormap\n",
    "colors = ['red', 'green', 'blue', 'orange', 'silver']\n",
    "lines = ['RED', 'GREEN', 'BLUE', 'ORANGE', 'SILVER']\n",
    "cmap = plt.cm.colors.ListedColormap(colors)\n",
    "norm = plt.cm.colors.Normalize(vmin=0, vmax=len(lines)-1)\n",
    "\n",
    "# Plot the GeoDataFrame\n",
    "ax = mbta_line.plot(column='LINE', cmap=cmap, legend=True, figsize=(10, 8))\n",
    "\n",
    "# Create a colorbar\n",
    "sm = plt.cm.ScalarMappable(cmap=cmap, norm=norm)\n",
    "sm.set_array([])\n",
    "plt.colorbar(sm, ax=ax, label='MBTA Line Colors')\n",
    "\n",
    "# Add title\n",
    "plt.title('MBTA Rapid Transit Lines')\n",
    "\n",
    "# Show the plot\n",
    "plt.show()\n"
   ]
  },
  {
   "cell_type": "code",
   "execution_count": null,
   "metadata": {
    "pycharm": {
     "name": "#%%\n"
    }
   },
   "outputs": [],
   "source": [
    "line_colors = {\n",
    "    'RED': 'red',\n",
    "    'GREEN': 'green',\n",
    "    'BLUE': 'blue',\n",
    "    'ORANGE': 'orange',\n",
    "    'SILVER': 'silver'\n",
    "}\n",
    "\n",
    "# Plot the GeoDataFrame\n",
    "ax = mbta_line.plot(column='LINE', figsize=(10, 8), legend=True,\n",
    "                    legend_kwds={'title': 'MBTA Line Colors'})\n",
    "\n",
    "# Customize legend labels and colors\n",
    "for line_name, color in line_colors.items():\n",
    "    ax.get_legend().get_texts()[mbta_line['LINE'].unique().tolist().index(line_name)].set_text(line_name)\n",
    "    ax.get_legend().legendHandles[mbta_line['LINE'].unique().tolist().index(line_name)].set_color(color)"
   ]
  },
  {
   "cell_type": "code",
   "execution_count": null,
   "metadata": {
    "pycharm": {
     "name": "#%%\n"
    }
   },
   "outputs": [],
   "source": [
    "import geopandas as gpd\n",
    "import matplotlib.pyplot as plt\n",
    "from matplotlib.colors import ListedColormap\n",
    "\n",
    "# Read the GeoDataFrame containing the lines\n",
    "mbta_node = gpd.read_file(\"mbta_rapid_transit/MBTA_NODE.shp\")\n",
    "\n",
    "# Define custom colors\n",
    "\n",
    "custom_colors = {\n",
    "    'GREEN/RED': '#00ff00',     # Green\n",
    "    'RED': '#ff0000',           # Red\n",
    "    'BLUE/ORANGE': '#0000ff',   # Blue\n",
    "    'ORANGE': '#ffa500',        # Orange\n",
    "    'SILVER': '#c0c0c0',        # Silver\n",
    "    'GREEN': '#00ff00',         # Green\n",
    "    'GREEN/ORANGE': '#008000',  # Dark Green\n",
    "    'BLUE': '#0000ff',          # Blue\n",
    "    'BLUE/GREEN': '#0000ff',    # Blue\n",
    "    'ORANGE/RED': '#ff4500'     # Orange Red\n",
    "}\n",
    "\n",
    "\n",
    "\n",
    "# Create a custom colormap\n",
    "#cmap = ListedColormap([custom_colors.get(key, default_cmap(i)) for key, i in zip(mbta_node['LINE'], range(len(mbta_node['LINE'])))])\n",
    "\n",
    "# Plot the GeoDataFrame with the custom colormap\n",
    "# mbta_node.plot(column='LINE', figsize=(10, 8), colors = 'custom_colors', legend=True)\n",
    "\n",
    "\n",
    "mbta_node.plot(column='LINE', figsize=(10, 8), legend=True, legend_kwds={'labels': custom_colors})\n",
    "\n",
    "\n",
    "\n",
    "\n"
   ]
  },
  {
   "cell_type": "markdown",
   "metadata": {
    "pycharm": {
     "name": "#%% md\n"
    }
   },
   "source": []
  },
  {
   "cell_type": "code",
   "execution_count": null,
   "metadata": {
    "pycharm": {
     "name": "#%%\n"
    }
   },
   "outputs": [],
   "source": [
    "\n",
    "mbta_node.explore(color = 'LINE')\n",
    "mbta_line\n"
   ]
  },
  {
   "cell_type": "code",
   "execution_count": null,
   "metadata": {
    "pycharm": {
     "name": "#%%\n"
    }
   },
   "outputs": [],
   "source": [
    "import folium \n",
    "mbta_node.explore( color = 'LINE')"
   ]
  }
 ],
 "metadata": {
  "kernelspec": {
   "display_name": "Python 3",
   "language": "python",
   "name": "python3"
  },
  "language_info": {
   "codemirror_mode": {
    "name": "ipython",
    "version": 3
   },
   "file_extension": ".py",
   "mimetype": "text/x-python",
   "name": "python",
   "nbconvert_exporter": "python",
   "pygments_lexer": "ipython3",
   "version": "3.9.13"
  }
 },
 "nbformat": 4,
 "nbformat_minor": 2
}